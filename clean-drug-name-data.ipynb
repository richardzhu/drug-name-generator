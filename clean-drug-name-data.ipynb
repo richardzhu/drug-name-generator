{
 "cells": [
  {
   "cell_type": "code",
   "execution_count": 1,
   "metadata": {},
   "outputs": [],
   "source": [
    "import numpy as np\n",
    "import pandas as pd\n",
    "import matplotlib.pyplot as plt\n",
    "%matplotlib inline\n",
    "\n",
    "import re\n",
    "import os\n",
    "from functools import reduce"
   ]
  },
  {
   "cell_type": "markdown",
   "metadata": {},
   "source": [
    "## Load data"
   ]
  },
  {
   "cell_type": "code",
   "execution_count": 2,
   "metadata": {},
   "outputs": [],
   "source": [
    "name_data = os.path.expanduser('~/Dropbox/Workspace/projects/drug-name-generator/fda-drug-data/Products.txt')"
   ]
  },
  {
   "cell_type": "code",
   "execution_count": 3,
   "metadata": {},
   "outputs": [
    {
     "name": "stderr",
     "output_type": "stream",
     "text": [
      "b'Skipping line 34802: expected 8 fields, saw 9\\nSkipping line 34803: expected 8 fields, saw 9\\nSkipping line 34804: expected 8 fields, saw 9\\n'\n"
     ]
    }
   ],
   "source": [
    "data = pd.read_csv(name_data, sep='\\t', error_bad_lines=False)"
   ]
  },
  {
   "cell_type": "code",
   "execution_count": 4,
   "metadata": {},
   "outputs": [
    {
     "data": {
      "text/html": [
       "<div>\n",
       "<style scoped>\n",
       "    .dataframe tbody tr th:only-of-type {\n",
       "        vertical-align: middle;\n",
       "    }\n",
       "\n",
       "    .dataframe tbody tr th {\n",
       "        vertical-align: top;\n",
       "    }\n",
       "\n",
       "    .dataframe thead th {\n",
       "        text-align: right;\n",
       "    }\n",
       "</style>\n",
       "<table border=\"1\" class=\"dataframe\">\n",
       "  <thead>\n",
       "    <tr style=\"text-align: right;\">\n",
       "      <th></th>\n",
       "      <th>ApplNo</th>\n",
       "      <th>ProductNo</th>\n",
       "      <th>Form</th>\n",
       "      <th>Strength</th>\n",
       "      <th>ReferenceDrug</th>\n",
       "      <th>DrugName</th>\n",
       "      <th>ActiveIngredient</th>\n",
       "      <th>ReferenceStandard</th>\n",
       "    </tr>\n",
       "  </thead>\n",
       "  <tbody>\n",
       "    <tr>\n",
       "      <th>0</th>\n",
       "      <td>4</td>\n",
       "      <td>4</td>\n",
       "      <td>SOLUTION/DROPS;OPHTHALMIC</td>\n",
       "      <td>1%</td>\n",
       "      <td>0</td>\n",
       "      <td>PAREDRINE</td>\n",
       "      <td>HYDROXYAMPHETAMINE HYDROBROMIDE</td>\n",
       "      <td>0.0</td>\n",
       "    </tr>\n",
       "    <tr>\n",
       "      <th>1</th>\n",
       "      <td>159</td>\n",
       "      <td>1</td>\n",
       "      <td>TABLET;ORAL</td>\n",
       "      <td>500MG</td>\n",
       "      <td>0</td>\n",
       "      <td>SULFAPYRIDINE</td>\n",
       "      <td>SULFAPYRIDINE</td>\n",
       "      <td>0.0</td>\n",
       "    </tr>\n",
       "    <tr>\n",
       "      <th>2</th>\n",
       "      <td>552</td>\n",
       "      <td>1</td>\n",
       "      <td>INJECTABLE;INJECTION</td>\n",
       "      <td>20,000 UNITS/ML</td>\n",
       "      <td>0</td>\n",
       "      <td>LIQUAEMIN SODIUM</td>\n",
       "      <td>HEPARIN SODIUM</td>\n",
       "      <td>0.0</td>\n",
       "    </tr>\n",
       "    <tr>\n",
       "      <th>3</th>\n",
       "      <td>552</td>\n",
       "      <td>2</td>\n",
       "      <td>INJECTABLE;INJECTION</td>\n",
       "      <td>40,000 UNITS/ML</td>\n",
       "      <td>0</td>\n",
       "      <td>LIQUAEMIN SODIUM</td>\n",
       "      <td>HEPARIN SODIUM</td>\n",
       "      <td>0.0</td>\n",
       "    </tr>\n",
       "    <tr>\n",
       "      <th>4</th>\n",
       "      <td>552</td>\n",
       "      <td>3</td>\n",
       "      <td>INJECTABLE;INJECTION</td>\n",
       "      <td>5,000 UNITS/ML</td>\n",
       "      <td>0</td>\n",
       "      <td>LIQUAEMIN SODIUM</td>\n",
       "      <td>HEPARIN SODIUM</td>\n",
       "      <td>0.0</td>\n",
       "    </tr>\n",
       "  </tbody>\n",
       "</table>\n",
       "</div>"
      ],
      "text/plain": [
       "   ApplNo  ProductNo                       Form         Strength  \\\n",
       "0       4          4  SOLUTION/DROPS;OPHTHALMIC               1%   \n",
       "1     159          1                TABLET;ORAL            500MG   \n",
       "2     552          1       INJECTABLE;INJECTION  20,000 UNITS/ML   \n",
       "3     552          2       INJECTABLE;INJECTION  40,000 UNITS/ML   \n",
       "4     552          3       INJECTABLE;INJECTION   5,000 UNITS/ML   \n",
       "\n",
       "   ReferenceDrug          DrugName                 ActiveIngredient  \\\n",
       "0              0         PAREDRINE  HYDROXYAMPHETAMINE HYDROBROMIDE   \n",
       "1              0     SULFAPYRIDINE                    SULFAPYRIDINE   \n",
       "2              0  LIQUAEMIN SODIUM                   HEPARIN SODIUM   \n",
       "3              0  LIQUAEMIN SODIUM                   HEPARIN SODIUM   \n",
       "4              0  LIQUAEMIN SODIUM                   HEPARIN SODIUM   \n",
       "\n",
       "   ReferenceStandard  \n",
       "0                0.0  \n",
       "1                0.0  \n",
       "2                0.0  \n",
       "3                0.0  \n",
       "4                0.0  "
      ]
     },
     "execution_count": 4,
     "metadata": {},
     "output_type": "execute_result"
    }
   ],
   "source": [
    "data.head()"
   ]
  },
  {
   "cell_type": "code",
   "execution_count": 5,
   "metadata": {},
   "outputs": [
    {
     "name": "stdout",
     "output_type": "stream",
     "text": [
      "There are 7198 unique names.\n",
      "There are 2760 unique ingredients.\n"
     ]
    }
   ],
   "source": [
    "names = data['DrugName']\n",
    "print('There are {} unique names.'.format(len(set(names))))\n",
    "ingredients = data['ActiveIngredient']\n",
    "print('There are {} unique ingredients.'.format(len(set(ingredients))))"
   ]
  },
  {
   "cell_type": "markdown",
   "metadata": {},
   "source": [
    "## Clean data for blacklisted words and regexes"
   ]
  },
  {
   "cell_type": "markdown",
   "metadata": {},
   "source": [
    "### Blacklist: tokens, ingredients"
   ]
  },
  {
   "cell_type": "markdown",
   "metadata": {},
   "source": [
    "Filter out simple words and weird phrases, as well as idiosyncratic occurrences of punctuation, numbers, and other characters."
   ]
  },
  {
   "cell_type": "code",
   "execution_count": 6,
   "metadata": {},
   "outputs": [],
   "source": [
    "# blacklist certain words associated with packaging\n",
    "blacklist_words = [\n",
    "    'in',\n",
    "    'water',\n",
    "    'plastic',\n",
    "    'container',\n",
    "    'w/',\n",
    "    'preservative',\n",
    "    'free',\n",
    "    'kit',\n",
    "    'and',\n",
    "    'xr'\n",
    "]\n",
    "\n",
    "# tokenize all ingredients\n",
    "ingredient_tokens = []\n",
    "tokenized_ingredients = [ingredient_name.lower().split(' ') for ingredient_name in list(ingredients)]\n",
    "for tokens in tokenized_ingredients:\n",
    "    ingredient_tokens += tokens\n",
    "\n",
    "# dedupe and sort all ingredient tokens\n",
    "ingredient_tokens = sorted(list(set(ingredient_tokens)))\n",
    "\n",
    "# add all ingredients to blacklist, e.g. sodium, hydrobromide, etc.\n",
    "blacklist_words += ingredient_tokens\n",
    "\n",
    "# create blacklist of banned tokens\n",
    "blacklist = {}\n",
    "for word in blacklist_words:\n",
    "    blacklist[word] = True\n",
    "def blacklisted_word(word):\n",
    "    \"\"\"Return True if word is in blacklisted words [ingredients & packaging words], else False.\"\"\"\n",
    "    return word.lower() in blacklist"
   ]
  },
  {
   "cell_type": "code",
   "execution_count": 7,
   "metadata": {},
   "outputs": [],
   "source": [
    "# create a list of unique! (drug name, ingredient tokens) tuples\n",
    "drug_list = []\n",
    "seen = {}\n",
    "for i in range(len(tokenized_ingredients)):\n",
    "    ingredient_list = tokenized_ingredients[i]\n",
    "    drug_name = names[i]\n",
    "    if drug_name not in seen:\n",
    "        drug_list.append((drug_name, ingredient_list))\n",
    "        seen[drug_name] = True\n",
    "    else:\n",
    "        continue\n",
    "        \n",
    "drug_list = sorted(drug_list)"
   ]
  },
  {
   "cell_type": "code",
   "execution_count": 8,
   "metadata": {},
   "outputs": [
    {
     "data": {
      "text/plain": [
       "[('8-HOUR BAYER', ['aspirin']),\n",
       " ('8-MOP', ['methoxsalen']),\n",
       " ('A-HYDROCORT', ['hydrocortisone', 'sodium', 'succinate']),\n",
       " ('A-METHAPRED', ['methylprednisolone', 'sodium', 'succinate']),\n",
       " ('A-N STANNOUS AGGREGATED ALBUMIN',\n",
       "  ['technetium', 'tc-99m', 'albumin', 'aggregated', 'kit'])]"
      ]
     },
     "execution_count": 8,
     "metadata": {},
     "output_type": "execute_result"
    }
   ],
   "source": [
    "drug_list[:5]"
   ]
  },
  {
   "cell_type": "markdown",
   "metadata": {},
   "source": [
    "### Blacklist: regexps for non-alphanumeric tokens"
   ]
  },
  {
   "cell_type": "code",
   "execution_count": 9,
   "metadata": {},
   "outputs": [],
   "source": [
    "blacklist_regex = [\n",
    "    r'.*\\d+.*',  # anything containing 0-9 digits\n",
    "    r'.*%+.*',  # anything containing 1 or more % symbols\n",
    "    r'.*\\/+.*', # anything containing 1 or more forward slashes\n",
    "    r'.*\\-.*',  # anything containing hyphens\n",
    "    r'.*\\W.*',  # anything that is purely non-word chars (non alphanumeric)\n",
    "    r'\\b\\w{1,3}\\b',  # no 1-3 length strings\n",
    "]\n",
    "def blacklisted_regex(word):\n",
    "    \"\"\"Return True if word matches blacklisted regexps, else False.\"\"\"\n",
    "    for regex in blacklist_regex:\n",
    "        if re.match(regex, word):\n",
    "            return True\n",
    "    return False"
   ]
  },
  {
   "cell_type": "markdown",
   "metadata": {},
   "source": [
    "### Blacklist: regular English words and Scrabble words"
   ]
  },
  {
   "cell_type": "code",
   "execution_count": 10,
   "metadata": {},
   "outputs": [],
   "source": [
    "import twl\n",
    "import enchant\n",
    "\n",
    "d = enchant.Dict('en_US')"
   ]
  },
  {
   "cell_type": "code",
   "execution_count": 11,
   "metadata": {},
   "outputs": [],
   "source": [
    "def blacklisted_scrabble(word):\n",
    "    \"\"\"Return True if word is a standard Scrabble word, else False.\"\"\"\n",
    "    word = word.lower()\n",
    "    return twl.check(word) and d.check(word) "
   ]
  },
  {
   "cell_type": "code",
   "execution_count": 12,
   "metadata": {},
   "outputs": [],
   "source": [
    "blacklist_funcs = [\n",
    "    blacklisted_word,\n",
    "    blacklisted_regex,\n",
    "    blacklisted_scrabble\n",
    "]"
   ]
  },
  {
   "cell_type": "code",
   "execution_count": 13,
   "metadata": {},
   "outputs": [],
   "source": [
    "def check_blacklist(word):\n",
    "    \"\"\"Return True if word is in any blacklist, else False.\"\"\"\n",
    "    bools = [func(word) for func in blacklist_funcs]\n",
    "    return not reduce(lambda x, y: x or y, bools)"
   ]
  },
  {
   "cell_type": "code",
   "execution_count": 14,
   "metadata": {},
   "outputs": [],
   "source": [
    "def filter_name(name):\n",
    "    \"\"\"Filter a drug name that contains spaces, removing all blacklisted words.\"\"\"\n",
    "    # split by spaces\n",
    "    tokens = name.split(' ')\n",
    "    valid_tokens = filter(check_blacklist, tokens)\n",
    "    clean_name = ' '.join(valid_tokens)\n",
    "    return clean_name"
   ]
  },
  {
   "cell_type": "markdown",
   "metadata": {},
   "source": [
    "### Filter names"
   ]
  },
  {
   "cell_type": "code",
   "execution_count": 15,
   "metadata": {},
   "outputs": [],
   "source": [
    "# filter names\n",
    "clean_names = [filter_name(name) for name, _ in drug_list]\n",
    "\n",
    "# fuse all names\n",
    "clean_names = ' '.join(clean_names).split()\n",
    "\n",
    "# dedupe names\n",
    "clean_names = sorted(list(set(clean_names)))"
   ]
  },
  {
   "cell_type": "code",
   "execution_count": 16,
   "metadata": {},
   "outputs": [
    {
     "data": {
      "text/plain": [
       "['ABBOJECT',\n",
       " 'ABELCET',\n",
       " 'ABILIFY',\n",
       " 'ABITREXATE',\n",
       " 'ABLAVAR',\n",
       " 'ABLYSINOL',\n",
       " 'ABRAXANE',\n",
       " 'ABREVA',\n",
       " 'ABSORBASE',\n",
       " 'ABSORICA']"
      ]
     },
     "execution_count": 16,
     "metadata": {},
     "output_type": "execute_result"
    }
   ],
   "source": [
    "clean_names[:10]"
   ]
  },
  {
   "cell_type": "code",
   "execution_count": 17,
   "metadata": {},
   "outputs": [
    {
     "data": {
      "text/plain": [
       "3663"
      ]
     },
     "execution_count": 17,
     "metadata": {},
     "output_type": "execute_result"
    }
   ],
   "source": [
    "len(clean_names)"
   ]
  },
  {
   "cell_type": "markdown",
   "metadata": {},
   "source": [
    "## Export names as readily-trainable data for an LSTM model"
   ]
  },
  {
   "cell_type": "code",
   "execution_count": 19,
   "metadata": {},
   "outputs": [],
   "source": [
    "with open(\n",
    "    os.path.expanduser('~/Dropbox/Workspace/projects/drug-name-generator/fda-drug-names.txt'),\n",
    "    'w'\n",
    ") as file:\n",
    "    for name in clean_names:\n",
    "        file.write(name + '\\n')"
   ]
  }
 ],
 "metadata": {
  "kernelspec": {
   "display_name": "Python 3",
   "language": "python",
   "name": "python3"
  },
  "language_info": {
   "codemirror_mode": {
    "name": "ipython",
    "version": 3
   },
   "file_extension": ".py",
   "mimetype": "text/x-python",
   "name": "python",
   "nbconvert_exporter": "python",
   "pygments_lexer": "ipython3",
   "version": "3.6.5"
  }
 },
 "nbformat": 4,
 "nbformat_minor": 2
}
