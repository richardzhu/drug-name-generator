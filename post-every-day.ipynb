{
 "cells": [
  {
   "cell_type": "code",
   "execution_count": 12,
   "metadata": {},
   "outputs": [],
   "source": [
    "src_file = 'unique_drugnames_943.txt'\n",
    "dst_file = 'posted_drugnames.txt'"
   ]
  },
  {
   "cell_type": "markdown",
   "metadata": {},
   "source": [
    "## Get the right time to post: 12 o'clock noon Pacific"
   ]
  },
  {
   "cell_type": "code",
   "execution_count": 8,
   "metadata": {},
   "outputs": [],
   "source": [
    "import datetime"
   ]
  },
  {
   "cell_type": "code",
   "execution_count": 9,
   "metadata": {},
   "outputs": [
    {
     "data": {
      "text/plain": [
       "datetime.datetime(2019, 6, 10, 22, 5, 44, 532032)"
      ]
     },
     "execution_count": 9,
     "metadata": {},
     "output_type": "execute_result"
    }
   ],
   "source": [
    "datetime.datetime.now()"
   ]
  },
  {
   "cell_type": "code",
   "execution_count": null,
   "metadata": {},
   "outputs": [],
   "source": [
    "import time\n",
    "import datetime\n",
    "\n",
    "# if for some reason this script is still running\n",
    "# after 2 years, we'll stop it.\n",
    "for i in range(0, 365 * 2):\n",
    "    # post a Tweet!\n",
    "    \n",
    "    # sleep until 12PM Pacific = 7PM UTC\n",
    "    now = datetime.datetime.today()\n",
    "    future = datetime.datetime(now.year, now.month, now.day, 19, 0)\n",
    "    if now.hour >= 19:\n",
    "        future += datetime.timedelta(days=1)\n",
    "    time.sleep((future - t).seconds)"
   ]
  },
  {
   "cell_type": "markdown",
   "metadata": {},
   "source": [
    "## Handle the post\n",
    "\n",
    "* Grab an unused drug name that is not in `posted_drugnames.txt`\n",
    "* Send a tweet using it.\n",
    "* Deposit said tweet in `posted_drugnames.txt`"
   ]
  },
  {
   "cell_type": "code",
   "execution_count": 47,
   "metadata": {},
   "outputs": [],
   "source": [
    "def get_unused_drugname(src_file, dst_file):\n",
    "    # get all previously posted drugnames\n",
    "    with open(dst_file, 'r') as fp:\n",
    "        posted_names = fp.readlines()\n",
    "        posted_names = [name.rstrip('\\n') for name in posted_names]\n",
    "    \n",
    "    # get all names\n",
    "    with open(src_file, 'r') as fp:\n",
    "        all_names = fp.readlines()\n",
    "        all_names = [name.rstrip('\\n') for name in all_names]\n",
    "        \n",
    "    # get an unused name and deposit it in posted names\n",
    "    unused_names = list(set(all_names).difference(set(posted_names)))\n",
    "    name_to_post = unused_names[0]\n",
    "    \n",
    "    new_posted_names = posted_names + [name_to_post]\n",
    "    new_posted_names = [name + '\\n' for name in new_posted_names]\n",
    "    with open(dst_file, 'w') as fp:\n",
    "        fp.writelines(new_posted_names)\n",
    "        \n",
    "    return name_to_post"
   ]
  },
  {
   "cell_type": "code",
   "execution_count": 48,
   "metadata": {},
   "outputs": [],
   "source": [
    "def send_tweet(drugname):\n",
    "    # load credentials from csv file\n",
    "    # TODO\n",
    "    \n",
    "    # clean up and post tweet\n",
    "    clean_drugname = drugname.upper()\n",
    "    clean_drugname = clean_drugname[0] + clean_drugname[1:].lower()\n",
    "    tweet_text = f'Drug of the day: {clean_drugname}'\n",
    "    print(tweet_text)\n",
    "    # TODO\n",
    "    "
   ]
  },
  {
   "cell_type": "code",
   "execution_count": 49,
   "metadata": {},
   "outputs": [],
   "source": [
    "def handle_post_tweet():\n",
    "    drugname = get_unused_drugname(src_file, dst_file)\n",
    "    send_tweet(drugname)"
   ]
  },
  {
   "cell_type": "code",
   "execution_count": 50,
   "metadata": {},
   "outputs": [
    {
     "name": "stdout",
     "output_type": "stream",
     "text": [
      "Drug of the day: Foramid\n",
      "Drug of the day: Ultracid\n",
      "Drug of the day: Inava\n",
      "Drug of the day: Wanblar\n",
      "Drug of the day: Ethro\n",
      "Drug of the day: Kerane\n",
      "Drug of the day: Pencinone\n",
      "Drug of the day: Myonex\n",
      "Drug of the day: Vancelor\n",
      "Drug of the day: Difenicy\n",
      "Drug of the day: Fetril\n",
      "Drug of the day: Hydropren\n",
      "Drug of the day: Aprison\n",
      "Drug of the day: Suleant\n",
      "Drug of the day: Mytek\n",
      "Drug of the day: Eskaya\n",
      "Drug of the day: Brialate\n",
      "Drug of the day: Calcophex\n",
      "Drug of the day: Xrepi\n",
      "Drug of the day: Acetat\n"
     ]
    }
   ],
   "source": [
    "for i in range(0, 20):\n",
    "    handle_post_tweet()"
   ]
  }
 ],
 "metadata": {
  "kernelspec": {
   "display_name": "Python 3",
   "language": "python",
   "name": "python3"
  },
  "language_info": {
   "codemirror_mode": {
    "name": "ipython",
    "version": 3
   },
   "file_extension": ".py",
   "mimetype": "text/x-python",
   "name": "python",
   "nbconvert_exporter": "python",
   "pygments_lexer": "ipython3",
   "version": "3.6.5"
  }
 },
 "nbformat": 4,
 "nbformat_minor": 2
}
